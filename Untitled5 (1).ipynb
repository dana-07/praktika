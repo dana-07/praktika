{
  "nbformat": 4,
  "nbformat_minor": 0,
  "metadata": {
    "colab": {
      "provenance": []
    },
    "kernelspec": {
      "name": "python3",
      "display_name": "Python 3"
    },
    "language_info": {
      "name": "python"
    }
  },
  "cells": [
    {
      "cell_type": "code",
      "execution_count": null,
      "metadata": {
        "id": "8oOnu4AKgrp6"
      },
      "outputs": [],
      "source": [
        "# Retail_EDA.ipynb\n",
        "\n",
        "# 1. Импорт библиотек\n",
        "import pandas as pd\n",
        "import matplotlib.pyplot as plt\n",
        "import seaborn as sns\n",
        "\n",
        "# 2. Загрузка данных (замени 'retail_data.csv' на свой файл)\n",
        "df = pd.read_csv(\"retail_data.csv\")\n",
        "\n",
        "# 3. Просмотр структуры данных\n",
        "print(df.head())\n",
        "print(df.info())\n",
        "print(df.describe())\n",
        "\n",
        "# 4. Очистка данных\n",
        "# Пример: удалим строки с пустыми значениями\n",
        "df = df.dropna()\n",
        "\n",
        "# 5. Анализ продаж по категориям\n",
        "sales_by_category = df.groupby(\"Category\")[\"Sales\"].sum().sort_values(ascending=False)\n",
        "print(sales_by_category)\n",
        "\n",
        "# Визуализация\n",
        "plt.figure(figsize=(8,5))\n",
        "sns.barplot(x=sales_by_category.index, y=sales_by_category.values, palette=\"viridis\")\n",
        "plt.title(\"Total Sales by Category\")\n",
        "plt.xticks(rotation=45)\n",
        "plt.show()\n",
        "\n",
        "# 6. Топ-10 товаров по продажам\n",
        "top_products = df.groupby(\"Product\")[\"Sales\"].sum().sort_values(ascending=False).head(10)\n",
        "print(top_products)\n",
        "\n",
        "plt.figure(figsize=(10,5))\n",
        "sns.barplot(x=top_products.index, y=top_products.values, palette=\"mako\")\n",
        "plt.title(\"Top 10 Products by Sales\")\n",
        "plt.xticks(rotation=45)\n",
        "plt.show()\n",
        "\n",
        "# 7. Сезонные тренды (по месяцам)\n",
        "df[\"Order Date\"] = pd.to_datetime(df[\"Order Date\"])\n",
        "df[\"Month\"] = df[\"Order Date\"].dt.month\n",
        "monthly_sales = df.groupby(\"Month\")[\"Sales\"].sum()\n",
        "\n",
        "plt.figure(figsize=(8,5))\n",
        "sns.lineplot(x=monthly_sales.index, y=monthly_sales.values, marker=\"o\")\n",
        "plt.title(\"Monthly Sales Trend\")\n",
        "plt.xlabel(\"Month\")\n",
        "plt.ylabel(\"Sales\")\n",
        "plt.show()\n",
        "\n",
        "# 8. Итоговые выводы\n",
        "print(\"Key Findings:\")\n",
        "print(\"- Category analysis shows which product groups generate the most revenue.\")\n",
        "print(\"- Top 10 products identified for sales optimization.\")\n",
        "print(\"- Monthly trend reveals seasonality in sales.\")\n"
      ]
    }
  ]
}